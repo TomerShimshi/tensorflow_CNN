{
  "nbformat": 4,
  "nbformat_minor": 0,
  "metadata": {
    "colab": {
      "name": "CNN .ipynb",
      "provenance": [],
      "collapsed_sections": [],
      "toc_visible": true,
      "authorship_tag": "ABX9TyOfbpzroxmHvU/ZYIPDf5CE",
      "include_colab_link": true
    },
    "kernelspec": {
      "name": "python3",
      "display_name": "Python 3"
    },
    "language_info": {
      "name": "python"
    }
  },
  "cells": [
    {
      "cell_type": "markdown",
      "metadata": {
        "id": "view-in-github",
        "colab_type": "text"
      },
      "source": [
        "<a href=\"https://colab.research.google.com/github/TomerShimshi/tensorflow_CNN/blob/main/CNN_.ipynb\" target=\"_parent\"><img src=\"https://colab.research.google.com/assets/colab-badge.svg\" alt=\"Open In Colab\"/></a>"
      ]
    },
    {
      "cell_type": "code",
      "execution_count": null,
      "metadata": {
        "id": "xfHSzfEsLF56",
        "colab": {
          "base_uri": "https://localhost:8080/",
          "height": 36
        },
        "outputId": "149bfafa-8302-4727-82f8-9b4a02abdd81"
      },
      "outputs": [
        {
          "output_type": "execute_result",
          "data": {
            "text/plain": [
              "'2.8.2'"
            ],
            "application/vnd.google.colaboratory.intrinsic+json": {
              "type": "string"
            }
          },
          "metadata": {},
          "execution_count": 27
        }
      ],
      "source": [
        "import cv2\n",
        "import numpy as np\n",
        "import zipfile\n",
        "from google.colab.patches import cv2_imshow\n",
        "import pandas as pd\n",
        "import seaborn as sns\n",
        "import matplotlib.pyplot as plt\n",
        "import tensorflow as tf\n",
        "from tensorflow.keras.models import Sequential\n",
        "from tensorflow.keras.layers import Conv2D, MaxPool2D,Flatten,Dense\n",
        "from tensorflow.keras.preprocessing.image import ImageDataGenerator\n",
        "\n",
        "import os\n",
        "tf.__version__"
      ]
    },
    {
      "cell_type": "code",
      "source": [
        "from google.colab import drive\n",
        "drive.mount('/content/drive')"
      ],
      "metadata": {
        "colab": {
          "base_uri": "https://localhost:8080/"
        },
        "id": "Z5ODkEa9Glm3",
        "outputId": "9e76443a-3c26-49e1-ce75-6e60fcbe71cd"
      },
      "execution_count": null,
      "outputs": [
        {
          "output_type": "stream",
          "name": "stdout",
          "text": [
            "Mounted at /content/drive\n"
          ]
        }
      ]
    },
    {
      "cell_type": "markdown",
      "source": [
        "loading the images"
      ],
      "metadata": {
        "id": "-jN1ekAhHyKS"
      }
    },
    {
      "cell_type": "code",
      "source": [
        "path = '/content/drive/MyDrive/Computer Vision Masterclass/Datasets/homer_bart_2.zip'\n",
        "zip_obj = zipfile.ZipFile(file= path, mode= 'r')\n",
        "zip_obj.extractall('./')\n",
        "zip_obj.close()"
      ],
      "metadata": {
        "id": "BWIjyjvhH_u8"
      },
      "execution_count": null,
      "outputs": []
    },
    {
      "cell_type": "markdown",
      "source": [
        "now for the train and test set"
      ],
      "metadata": {
        "id": "phdsJu_NKlP9"
      }
    },
    {
      "cell_type": "code",
      "source": [
        "trainning_generator = ImageDataGenerator(rescale=1./255, rotation_range= 7 , horizontal_flip= True, zoom_range= 0.2)"
      ],
      "metadata": {
        "id": "UcjdqyCxH0i4"
      },
      "execution_count": null,
      "outputs": []
    },
    {
      "cell_type": "code",
      "source": [
        "train_dataset = trainning_generator.flow_from_directory(directory= '/content/homer_bart_2/training_set', target_size=(64,64),\n",
        "                                                        batch_size=8, class_mode='categorical', shuffle= True)"
      ],
      "metadata": {
        "colab": {
          "base_uri": "https://localhost:8080/"
        },
        "id": "k0jQGjZELHCy",
        "outputId": "600d7079-eb3e-4434-9fe2-d20b72af16a1"
      },
      "execution_count": null,
      "outputs": [
        {
          "output_type": "stream",
          "name": "stdout",
          "text": [
            "Found 215 images belonging to 2 classes.\n"
          ]
        }
      ]
    },
    {
      "cell_type": "code",
      "source": [
        "train_dataset.class_indices"
      ],
      "metadata": {
        "colab": {
          "base_uri": "https://localhost:8080/"
        },
        "id": "D17vxBOEMWAR",
        "outputId": "e13cb053-294e-4cbc-c723-954396e022b7"
      },
      "execution_count": null,
      "outputs": [
        {
          "output_type": "execute_result",
          "data": {
            "text/plain": [
              "{'bart': 0, 'homer': 1}"
            ]
          },
          "metadata": {},
          "execution_count": 6
        }
      ]
    },
    {
      "cell_type": "code",
      "source": [
        "test_generator = ImageDataGenerator(rescale=1./255)"
      ],
      "metadata": {
        "id": "iuXZenBJNL_Q"
      },
      "execution_count": null,
      "outputs": []
    },
    {
      "cell_type": "code",
      "source": [
        "\n",
        "test_dataset = test_generator.flow_from_directory(directory= '/content/homer_bart_2/test_set', target_size=(64,64),\n",
        "                                                        batch_size=1, class_mode='categorical', shuffle= False)"
      ],
      "metadata": {
        "colab": {
          "base_uri": "https://localhost:8080/"
        },
        "id": "G_AGG4WNMbwU",
        "outputId": "5c9e7aab-8bc0-4cc7-aba4-40676fa71902"
      },
      "execution_count": null,
      "outputs": [
        {
          "output_type": "stream",
          "name": "stdout",
          "text": [
            "Found 54 images belonging to 2 classes.\n"
          ]
        }
      ]
    },
    {
      "cell_type": "markdown",
      "source": [
        "Build and train the net"
      ],
      "metadata": {
        "id": "JmFB1F_fNpVO"
      }
    },
    {
      "cell_type": "code",
      "source": [
        "net = Sequential()\n",
        "net.add(Conv2D(filters= 32, kernel_size=(3,3), activation='relu',input_shape = (64,64,3)))\n",
        "net.add(MaxPool2D(pool_size=(2,2)))\n",
        "\n",
        "net.add(Conv2D(filters= 32, kernel_size=(3,3), activation='relu'))\n",
        "net.add(MaxPool2D(pool_size=(2,2)))\n",
        "\n",
        "net.add(Conv2D(filters= 32, kernel_size=(3,3), activation='relu'))\n",
        "net.add(MaxPool2D(pool_size=(2,2)))\n",
        "\n",
        "net.add(Flatten())\n",
        "\n",
        "net.add(Dense(units=577,activation='relu'))\n",
        "net.add(tf.keras.layers.Dropout(.2, input_shape=(2,)))\n",
        "net.add(Dense(units=577,activation='relu'))\n",
        "net.add(Dense(units=2,activation='softmax'))\n",
        "net.summary()"
      ],
      "metadata": {
        "colab": {
          "base_uri": "https://localhost:8080/"
        },
        "id": "bjzXbMBsMjiQ",
        "outputId": "0ce152e6-fe0f-4a04-ec1d-f718111f5f12"
      },
      "execution_count": null,
      "outputs": [
        {
          "output_type": "stream",
          "name": "stdout",
          "text": [
            "Model: \"sequential_1\"\n",
            "_________________________________________________________________\n",
            " Layer (type)                Output Shape              Param #   \n",
            "=================================================================\n",
            " conv2d_3 (Conv2D)           (None, 62, 62, 32)        896       \n",
            "                                                                 \n",
            " max_pooling2d_3 (MaxPooling  (None, 31, 31, 32)       0         \n",
            " 2D)                                                             \n",
            "                                                                 \n",
            " conv2d_4 (Conv2D)           (None, 29, 29, 32)        9248      \n",
            "                                                                 \n",
            " max_pooling2d_4 (MaxPooling  (None, 14, 14, 32)       0         \n",
            " 2D)                                                             \n",
            "                                                                 \n",
            " conv2d_5 (Conv2D)           (None, 12, 12, 32)        9248      \n",
            "                                                                 \n",
            " max_pooling2d_5 (MaxPooling  (None, 6, 6, 32)         0         \n",
            " 2D)                                                             \n",
            "                                                                 \n",
            " flatten_1 (Flatten)         (None, 1152)              0         \n",
            "                                                                 \n",
            " dense_3 (Dense)             (None, 577)               665281    \n",
            "                                                                 \n",
            " dropout (Dropout)           (None, 577)               0         \n",
            "                                                                 \n",
            " dense_4 (Dense)             (None, 577)               333506    \n",
            "                                                                 \n",
            " dense_5 (Dense)             (None, 2)                 1156      \n",
            "                                                                 \n",
            "=================================================================\n",
            "Total params: 1,019,335\n",
            "Trainable params: 1,019,335\n",
            "Non-trainable params: 0\n",
            "_________________________________________________________________\n"
          ]
        }
      ]
    },
    {
      "cell_type": "code",
      "source": [
        "net.compile(optimizer='Adam', loss= tf.keras.losses.CategoricalCrossentropy(),metrics=['accuracy'])"
      ],
      "metadata": {
        "id": "dKRI34ynS9EY"
      },
      "execution_count": null,
      "outputs": []
    },
    {
      "cell_type": "code",
      "source": [
        "history= net.fit_generator( train_dataset,epochs=50)"
      ],
      "metadata": {
        "colab": {
          "base_uri": "https://localhost:8080/"
        },
        "id": "n6khoJ60TRgB",
        "outputId": "736b34c2-57d2-4696-8e08-85e8041bbfcb"
      },
      "execution_count": null,
      "outputs": [
        {
          "output_type": "stream",
          "name": "stdout",
          "text": [
            "Epoch 1/50\n"
          ]
        },
        {
          "output_type": "stream",
          "name": "stderr",
          "text": [
            "/usr/local/lib/python3.7/dist-packages/ipykernel_launcher.py:1: UserWarning: `Model.fit_generator` is deprecated and will be removed in a future version. Please use `Model.fit`, which supports generators.\n",
            "  \"\"\"Entry point for launching an IPython kernel.\n"
          ]
        },
        {
          "output_type": "stream",
          "name": "stdout",
          "text": [
            "27/27 [==============================] - 2s 39ms/step - loss: 0.6794 - accuracy: 0.5953\n",
            "Epoch 2/50\n",
            "27/27 [==============================] - 1s 39ms/step - loss: 0.5981 - accuracy: 0.6651\n",
            "Epoch 3/50\n",
            "27/27 [==============================] - 1s 40ms/step - loss: 0.5343 - accuracy: 0.7256\n",
            "Epoch 4/50\n",
            "27/27 [==============================] - 1s 39ms/step - loss: 0.5031 - accuracy: 0.7581\n",
            "Epoch 5/50\n",
            "27/27 [==============================] - 1s 40ms/step - loss: 0.4403 - accuracy: 0.7814\n",
            "Epoch 6/50\n",
            "27/27 [==============================] - 1s 40ms/step - loss: 0.3461 - accuracy: 0.8558\n",
            "Epoch 7/50\n",
            "27/27 [==============================] - 1s 40ms/step - loss: 0.3988 - accuracy: 0.8186\n",
            "Epoch 8/50\n",
            "27/27 [==============================] - 1s 39ms/step - loss: 0.3139 - accuracy: 0.8419\n",
            "Epoch 9/50\n",
            "27/27 [==============================] - 1s 39ms/step - loss: 0.3401 - accuracy: 0.8512\n",
            "Epoch 10/50\n",
            "27/27 [==============================] - 1s 40ms/step - loss: 0.2727 - accuracy: 0.8744\n",
            "Epoch 11/50\n",
            "27/27 [==============================] - 1s 40ms/step - loss: 0.3201 - accuracy: 0.8744\n",
            "Epoch 12/50\n",
            "27/27 [==============================] - 1s 40ms/step - loss: 0.2112 - accuracy: 0.9163\n",
            "Epoch 13/50\n",
            "27/27 [==============================] - 1s 40ms/step - loss: 0.1670 - accuracy: 0.9256\n",
            "Epoch 14/50\n",
            "27/27 [==============================] - 1s 40ms/step - loss: 0.3325 - accuracy: 0.8698\n",
            "Epoch 15/50\n",
            "27/27 [==============================] - 1s 40ms/step - loss: 0.2374 - accuracy: 0.9116\n",
            "Epoch 16/50\n",
            "27/27 [==============================] - 1s 40ms/step - loss: 0.1574 - accuracy: 0.9209\n",
            "Epoch 17/50\n",
            "27/27 [==============================] - 1s 39ms/step - loss: 0.1391 - accuracy: 0.9302\n",
            "Epoch 18/50\n",
            "27/27 [==============================] - 1s 39ms/step - loss: 0.1270 - accuracy: 0.9395\n",
            "Epoch 19/50\n",
            "27/27 [==============================] - 1s 40ms/step - loss: 0.1801 - accuracy: 0.9256\n",
            "Epoch 20/50\n",
            "27/27 [==============================] - 1s 40ms/step - loss: 0.1277 - accuracy: 0.9442\n",
            "Epoch 21/50\n",
            "27/27 [==============================] - 1s 40ms/step - loss: 0.0600 - accuracy: 0.9767\n",
            "Epoch 22/50\n",
            "27/27 [==============================] - 1s 39ms/step - loss: 0.1289 - accuracy: 0.9581\n",
            "Epoch 23/50\n",
            "27/27 [==============================] - 1s 40ms/step - loss: 0.0997 - accuracy: 0.9628\n",
            "Epoch 24/50\n",
            "27/27 [==============================] - 1s 40ms/step - loss: 0.0934 - accuracy: 0.9535\n",
            "Epoch 25/50\n",
            "27/27 [==============================] - 1s 39ms/step - loss: 0.1577 - accuracy: 0.9302\n",
            "Epoch 26/50\n",
            "27/27 [==============================] - 1s 39ms/step - loss: 0.0665 - accuracy: 0.9767\n",
            "Epoch 27/50\n",
            "27/27 [==============================] - 1s 39ms/step - loss: 0.0903 - accuracy: 0.9721\n",
            "Epoch 28/50\n",
            "27/27 [==============================] - 1s 40ms/step - loss: 0.3178 - accuracy: 0.9023\n",
            "Epoch 29/50\n",
            "27/27 [==============================] - 1s 39ms/step - loss: 0.1511 - accuracy: 0.9488\n",
            "Epoch 30/50\n",
            "27/27 [==============================] - 1s 39ms/step - loss: 0.0932 - accuracy: 0.9628\n",
            "Epoch 31/50\n",
            "27/27 [==============================] - 1s 39ms/step - loss: 0.0491 - accuracy: 0.9767\n",
            "Epoch 32/50\n",
            "27/27 [==============================] - 1s 39ms/step - loss: 0.0274 - accuracy: 0.9907\n",
            "Epoch 33/50\n",
            "27/27 [==============================] - 1s 40ms/step - loss: 0.0103 - accuracy: 1.0000\n",
            "Epoch 34/50\n",
            "27/27 [==============================] - 1s 40ms/step - loss: 0.1103 - accuracy: 0.9581\n",
            "Epoch 35/50\n",
            "27/27 [==============================] - 1s 39ms/step - loss: 0.0552 - accuracy: 0.9814\n",
            "Epoch 36/50\n",
            "27/27 [==============================] - 1s 39ms/step - loss: 0.0319 - accuracy: 0.9907\n",
            "Epoch 37/50\n",
            "27/27 [==============================] - 1s 40ms/step - loss: 0.0776 - accuracy: 0.9674\n",
            "Epoch 38/50\n",
            "27/27 [==============================] - 1s 40ms/step - loss: 0.0484 - accuracy: 0.9814\n",
            "Epoch 39/50\n",
            "27/27 [==============================] - 1s 39ms/step - loss: 0.1231 - accuracy: 0.9767\n",
            "Epoch 40/50\n",
            "27/27 [==============================] - 1s 40ms/step - loss: 0.0464 - accuracy: 0.9814\n",
            "Epoch 41/50\n",
            "27/27 [==============================] - 1s 40ms/step - loss: 0.0332 - accuracy: 0.9860\n",
            "Epoch 42/50\n",
            "27/27 [==============================] - 1s 40ms/step - loss: 0.0097 - accuracy: 0.9953\n",
            "Epoch 43/50\n",
            "27/27 [==============================] - 1s 40ms/step - loss: 0.0071 - accuracy: 0.9953\n",
            "Epoch 44/50\n",
            "27/27 [==============================] - 1s 40ms/step - loss: 0.0078 - accuracy: 0.9953\n",
            "Epoch 45/50\n",
            "27/27 [==============================] - 1s 41ms/step - loss: 0.0732 - accuracy: 0.9767\n",
            "Epoch 46/50\n",
            "27/27 [==============================] - 1s 39ms/step - loss: 0.0407 - accuracy: 0.9860\n",
            "Epoch 47/50\n",
            "27/27 [==============================] - 1s 40ms/step - loss: 0.0255 - accuracy: 0.9907\n",
            "Epoch 48/50\n",
            "27/27 [==============================] - 1s 39ms/step - loss: 0.0231 - accuracy: 0.9860\n",
            "Epoch 49/50\n",
            "27/27 [==============================] - 1s 39ms/step - loss: 0.0766 - accuracy: 0.9721\n",
            "Epoch 50/50\n",
            "27/27 [==============================] - 1s 39ms/step - loss: 0.0431 - accuracy: 0.9860\n"
          ]
        }
      ]
    },
    {
      "cell_type": "markdown",
      "source": [
        "now for the test"
      ],
      "metadata": {
        "id": "s-137Q4oWAin"
      }
    },
    {
      "cell_type": "code",
      "source": [
        "predictions = net.predict(test_dataset)"
      ],
      "metadata": {
        "id": "eWv_kCKnWFfc"
      },
      "execution_count": null,
      "outputs": []
    },
    {
      "cell_type": "code",
      "source": [
        "predictions = np.argmax(predictions,axis=1)"
      ],
      "metadata": {
        "id": "W7YH36KzWkKY"
      },
      "execution_count": null,
      "outputs": []
    },
    {
      "cell_type": "code",
      "source": [
        "from sklearn.metrics import accuracy_score\n",
        "accuracy_score(test_dataset.classes,predictions)"
      ],
      "metadata": {
        "colab": {
          "base_uri": "https://localhost:8080/"
        },
        "id": "GPmyk2JxY2rM",
        "outputId": "e2c8814e-0518-4558-c976-1df3ce4847e8"
      },
      "execution_count": null,
      "outputs": [
        {
          "output_type": "execute_result",
          "data": {
            "text/plain": [
              "0.8888888888888888"
            ]
          },
          "metadata": {},
          "execution_count": 133
        }
      ]
    },
    {
      "cell_type": "code",
      "source": [
        "from sklearn.metrics import confusion_matrix\n",
        "cm = confusion_matrix(test_dataset.classes,predictions)\n",
        "sns.heatmap(cm,annot=True)"
      ],
      "metadata": {
        "colab": {
          "base_uri": "https://localhost:8080/",
          "height": 286
        },
        "id": "Ar9yBJedZZf8",
        "outputId": "2db3638f-5ba0-4fd3-bc3c-09dc4371b69d"
      },
      "execution_count": null,
      "outputs": [
        {
          "output_type": "execute_result",
          "data": {
            "text/plain": [
              "<matplotlib.axes._subplots.AxesSubplot at 0x7f78d6938f90>"
            ]
          },
          "metadata": {},
          "execution_count": 134
        },
        {
          "output_type": "display_data",
          "data": {
            "text/plain": [
              "<Figure size 432x288 with 2 Axes>"
            ],
            "image/png": "[encoded data removed]"
          },
          "metadata": {
            "needs_background": "light"
          }
        }
      ]
    },
    {
      "cell_type": "code",
      "source": [
        "from sklearn.metrics import classification_report\n",
        "print(classification_report(test_dataset.classes,predictions))"
      ],
      "metadata": {
        "colab": {
          "base_uri": "https://localhost:8080/"
        },
        "id": "73YoYVoWnyM1",
        "outputId": "106ff15c-6bb0-4e27-9c85-e716017e42bd"
      },
      "execution_count": null,
      "outputs": [
        {
          "output_type": "stream",
          "name": "stdout",
          "text": [
            "              precision    recall  f1-score   support\n",
            "\n",
            "           0       0.96      0.82      0.88        28\n",
            "           1       0.83      0.96      0.89        26\n",
            "\n",
            "    accuracy                           0.89        54\n",
            "   macro avg       0.90      0.89      0.89        54\n",
            "weighted avg       0.90      0.89      0.89        54\n",
            "\n"
          ]
        }
      ]
    },
    {
      "cell_type": "markdown",
      "source": [
        "Now To Save The Model\n"
      ],
      "metadata": {
        "id": "112SXyjbpO8K"
      }
    },
    {
      "cell_type": "code",
      "source": [
        "mode_json= net.to_json()\n",
        "with open('net.json','w') as json_file:\n",
        "  json_file.write(mode_json)"
      ],
      "metadata": {
        "id": "cOtaMoQQpVcJ"
      },
      "execution_count": null,
      "outputs": []
    },
    {
      "cell_type": "code",
      "source": [
        "from keras.models import save_model\n",
        "net_saves = save_model(net,'/content/weights.hdf5')"
      ],
      "metadata": {
        "id": "xu1-yjpdptVE"
      },
      "execution_count": null,
      "outputs": []
    },
    {
      "cell_type": "markdown",
      "source": [
        "Load the model"
      ],
      "metadata": {
        "id": "Ar1GoJFZsFhx"
      }
    },
    {
      "cell_type": "code",
      "source": [
        "with open ('net.json','r') as json_file:\n",
        "  json_saved_model = json_file.read()\n",
        "\n"
      ],
      "metadata": {
        "id": "aay_qi1bqMpU"
      },
      "execution_count": null,
      "outputs": []
    },
    {
      "cell_type": "code",
      "source": [
        "net_loaded = tf.keras.models.model_from_json(json_saved_model)\n",
        "net_loaded.load_weights('weights.hdf5')\n",
        "net_loaded.compile(optimizer='Adam', loss= tf.keras.losses.CategoricalCrossentropy(),metrics=['accuracy'] )"
      ],
      "metadata": {
        "id": "SrBFwpxJqyZW"
      },
      "execution_count": null,
      "outputs": []
    },
    {
      "cell_type": "code",
      "source": [
        "#net_loaded.summary()"
      ],
      "metadata": {
        "id": "14T6m6vNsKnm"
      },
      "execution_count": null,
      "outputs": []
    },
    {
      "cell_type": "markdown",
      "source": [
        ""
      ],
      "metadata": {
        "id": "HyCl5RucsKHm"
      }
    },
    {
      "cell_type": "markdown",
      "source": [
        "classify a single image"
      ],
      "metadata": {
        "id": "cFKQPXG0UggA"
      }
    },
    {
      "cell_type": "code",
      "source": [
        "image = cv2.imread('/content/homer_bart_2/test_set/homer/homer28.bmp')\n"
      ],
      "metadata": {
        "id": "yuVJKTg0UsLD"
      },
      "execution_count": null,
      "outputs": []
    },
    {
      "cell_type": "code",
      "source": [
        "image.shape\n",
        "cv2_imshow(image)"
      ],
      "metadata": {
        "colab": {
          "base_uri": "https://localhost:8080/",
          "height": 485
        },
        "id": "66utAfQKVbW2",
        "outputId": "44c7d01e-0c91-44da-cfda-523f19515ef0"
      },
      "execution_count": null,
      "outputs": [
        {
          "output_type": "display_data",
          "data": {
            "text/plain": [
              "<PIL.Image.Image image mode=RGB size=392x468 at 0x7F78D680CE50>"
            ],
            "image/png": "[encoded data removed]"
          },
          "metadata": {}
        }
      ]
    },
    {
      "cell_type": "code",
      "source": [
        "image = cv2.resize(image,(64,64))"
      ],
      "metadata": {
        "id": "q6_Vbt20VmKO"
      },
      "execution_count": null,
      "outputs": []
    },
    {
      "cell_type": "code",
      "source": [
        "\n",
        "cv2_imshow(image)"
      ],
      "metadata": {
        "colab": {
          "base_uri": "https://localhost:8080/",
          "height": 81
        },
        "id": "qsl_rcU1V0tE",
        "outputId": "29db480f-0e3c-4672-96cd-33b658491d17"
      },
      "execution_count": null,
      "outputs": [
        {
          "output_type": "display_data",
          "data": {
            "text/plain": [
              "<PIL.Image.Image image mode=RGB size=64x64 at 0x7F78D67FB9D0>"
            ],
            "image/png": "[encoded data removed]"
          },
          "metadata": {}
        }
      ]
    },
    {
      "cell_type": "code",
      "source": [
        "image= image/255"
      ],
      "metadata": {
        "id": "bJvm95Q8WOUx"
      },
      "execution_count": null,
      "outputs": []
    },
    {
      "cell_type": "code",
      "source": [
        "image = image.reshape(-1,64,64,3)"
      ],
      "metadata": {
        "id": "EiUsunKEWWS6"
      },
      "execution_count": null,
      "outputs": []
    },
    {
      "cell_type": "markdown",
      "source": [
        "find the result for it"
      ],
      "metadata": {
        "id": "oJEeJasNWtLh"
      }
    },
    {
      "cell_type": "code",
      "source": [
        "result = net_loaded.predict(image)\n",
        "result"
      ],
      "metadata": {
        "colab": {
          "base_uri": "https://localhost:8080/"
        },
        "id": "Lj7yApasWv5U",
        "outputId": "f3aa6879-c0db-4691-b975-641dd798255c"
      },
      "execution_count": null,
      "outputs": [
        {
          "output_type": "execute_result",
          "data": {
            "text/plain": [
              "array([[8.5624645e-04, 9.9914372e-01]], dtype=float32)"
            ]
          },
          "metadata": {},
          "execution_count": 169
        }
      ]
    },
    {
      "cell_type": "code",
      "source": [
        "result = np.argmax(result)"
      ],
      "metadata": {
        "id": "fsmMYIrQXHwu"
      },
      "execution_count": null,
      "outputs": []
    },
    {
      "cell_type": "code",
      "source": [
        "test_dataset.class_indices"
      ],
      "metadata": {
        "colab": {
          "base_uri": "https://localhost:8080/"
        },
        "id": "qum7EhXkXQsQ",
        "outputId": "52590046-d4ee-4e6d-973d-255fdba92749"
      },
      "execution_count": null,
      "outputs": [
        {
          "output_type": "execute_result",
          "data": {
            "text/plain": [
              "{'bart': 0, 'homer': 1}"
            ]
          },
          "metadata": {},
          "execution_count": 171
        }
      ]
    },
    {
      "cell_type": "code",
      "source": [
        "if result == 0:\n",
        "  print('bart')\n",
        "else:\n",
        "  print('Homer')"
      ],
      "metadata": {
        "colab": {
          "base_uri": "https://localhost:8080/"
        },
        "id": "5HVHOTqXXbGs",
        "outputId": "208721fb-5e27-4280-df03-8143f988bb45"
      },
      "execution_count": null,
      "outputs": [
        {
          "output_type": "stream",
          "name": "stdout",
          "text": [
            "Homer\n"
          ]
        }
      ]
    }
  ]
}